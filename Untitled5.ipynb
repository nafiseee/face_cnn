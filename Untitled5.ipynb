{
  "cells": [
    {
      "cell_type": "code",
      "execution_count": 11,
      "id": "90ba9d86-b930-4fa6-bc2c-2f601c605d87",
      "metadata": {
        "colab": {
          "base_uri": "https://localhost:8080/"
        },
        "id": "90ba9d86-b930-4fa6-bc2c-2f601c605d87",
        "outputId": "4bc35661-3627-4db9-82c2-f1d90c52d562"
      },
      "outputs": [
        {
          "output_type": "execute_result",
          "data": {
            "text/plain": [
              "device(type='cuda')"
            ]
          },
          "metadata": {},
          "execution_count": 11
        }
      ],
      "source": [
        "import numpy as np\n",
        "import torch\n",
        "from torchvision import transforms\n",
        "import cv2\n",
        "import os\n",
        "import random\n",
        "import matplotlib.pyplot as plt\n",
        "from torch import nn\n",
        "import time \n",
        "from tqdm.notebook import tqdm\n",
        "import torch.optim as optim\n",
        "import torch.utils.data as data_utils\n",
        "from torch.utils.data import DataLoader\n",
        "from IPython.display import display, HTML\n",
        "\n",
        "\n",
        "random.seed(42)\n",
        "path = 'faces/'\n",
        "device = torch.device('cuda' if torch.cuda.is_available() else 'cpu')\n",
        "device"
      ]
    },
    {
      "cell_type": "code",
      "execution_count": 12,
      "id": "849efad1-8afc-4eb1-a5ac-dcee255e0b45",
      "metadata": {
        "id": "849efad1-8afc-4eb1-a5ac-dcee255e0b45",
        "colab": {
          "base_uri": "https://localhost:8080/"
        },
        "outputId": "03483dce-edd5-4fed-c169-a0afc1563d8e"
      },
      "outputs": [
        {
          "output_type": "stream",
          "name": "stdout",
          "text": [
            "Drive already mounted at /content/drive; to attempt to forcibly remount, call drive.mount(\"/content/drive\", force_remount=True).\n"
          ]
        }
      ],
      "source": [
        "from google.colab import drive\n",
        "drive.mount('/content/drive')\n",
        "train_tensor = torch.load('/content/drive/MyDrive/train_tensor.pt')\n",
        "test_tensor = torch.load('/content/drive/MyDrive/test_tensor.pt')\n",
        "\n",
        "\n"
      ]
    },
    {
      "cell_type": "code",
      "execution_count": 13,
      "id": "c4448e09-185f-4e2b-9317-18a133699a70",
      "metadata": {
        "id": "c4448e09-185f-4e2b-9317-18a133699a70"
      },
      "outputs": [],
      "source": [
        "batch_size = 100\n",
        "train_loader = DataLoader(train_tensor, batch_size=batch_size, shuffle=True)\n",
        "test_loader = DataLoader(test_tensor, batch_size=batch_size, shuffle=True)"
      ]
    },
    {
      "cell_type": "code",
      "execution_count": 13,
      "id": "c58a143c-7a67-46f3-b547-c47fb9f8dcc0",
      "metadata": {
        "id": "c58a143c-7a67-46f3-b547-c47fb9f8dcc0"
      },
      "outputs": [],
      "source": []
    },
    {
      "cell_type": "code",
      "execution_count": 14,
      "id": "5e3c0f88-4b04-4608-98da-2eff3a3f8359",
      "metadata": {
        "id": "5e3c0f88-4b04-4608-98da-2eff3a3f8359"
      },
      "outputs": [],
      "source": [
        "class xueta(nn.Module):\n",
        "    def __init__(self): \n",
        "        super().__init__() \n",
        "        self.layer1 = nn.Sequential( nn.Conv2d(1, 4, kernel_size=2, stride=1, padding=0), \n",
        "            nn.ReLU(),nn.AvgPool2d(4,stride=2))\n",
        "        self.layer2 = nn.Sequential( nn.Conv2d(4, 5, kernel_size=4, stride=1, padding=0), \n",
        "            nn.ReLU(),nn.AvgPool2d(4,stride=4))\n",
        "        \n",
        "        self.drop_out = nn.Dropout(p=0.3) \n",
        "        self.fc1 = nn.Linear(23*23*5, 50)\n",
        "        self.fc2 = nn.Linear(50, 10)  \n",
        "        self.fc3 = nn.Linear(10, 2)\n",
        "        \n",
        "    def forward(self, x): \n",
        "        out = self.layer1(x)\n",
        "        out = self.layer2(out)\n",
        "        out = out.reshape(out.size(0), -1)\n",
        "        \n",
        "        #out = self.drop_out(out)\n",
        "        \n",
        "        \n",
        "        out = self.fc1(out)\n",
        "        out = self.fc2(out)\n",
        "        out = self.fc3(out)\n",
        "        \n",
        "        return out\n",
        "        \n",
        "       "
      ]
    },
    {
      "cell_type": "code",
      "source": [
        "def acc():\n",
        "    predict = np.array([])\n",
        "    true = 0\n",
        "    vsego = 0\n",
        "\n",
        "    for batch_idx, (data, target) in enumerate(test_loader):\n",
        "        data = data.to(device)\n",
        "        t3 = time.time()\n",
        "        predict = net(data.reshape(len(data),1,200,200))\n",
        "        t4 = time.time()\n",
        "        predict = torch.argmax(predict,1)\n",
        "        target = torch.argmax(target,1)\n",
        "        mask = predict==target\n",
        "        true +=torch.sum(mask).item()\n",
        "        vsego+=predict.shape[0]\n",
        "        \n",
        "    print(true,vsego)\n",
        "    q = true/vsego*100\n",
        "    #display(HTML(f\"<font color='purple' size='10'>{round(q,3)}</font>\"))\n",
        "    \n",
        "    return round(q,2)\n",
        "def acc_t():\n",
        "    predict = np.array([])\n",
        "    true = 0\n",
        "    vsego = 0\n",
        "\n",
        "    for batch_idx, (data, target) in enumerate(train_loader):\n",
        "        data = data.to(device)\n",
        "        \n",
        "        predict = net(data.reshape(len(data),1,200,200))\n",
        "        \n",
        "        predict = torch.argmax(predict,1)\n",
        "        target = torch.argmax(target,1)\n",
        "        mask = predict==target\n",
        "        true +=torch.sum(mask).item()\n",
        "        vsego+=predict.shape[0]\n",
        "        \n",
        "    print(true,vsego)\n",
        "    q = true/vsego*100\n",
        "    #display(HTML(f\"<font color='purple' size='10'>{round(q,3)}</font>\"))\n",
        "    return round(q,2)\n",
        "acc()\n",
        "#acc_t()"
      ],
      "metadata": {
        "colab": {
          "base_uri": "https://localhost:8080/"
        },
        "id": "vLkmc5ZLKTwT",
        "outputId": "c6638aef-0cc2-4c2b-c78a-0098aad2585a"
      },
      "id": "vLkmc5ZLKTwT",
      "execution_count": 15,
      "outputs": [
        {
          "output_type": "stream",
          "name": "stdout",
          "text": [
            "2793 3657\n"
          ]
        },
        {
          "output_type": "execute_result",
          "data": {
            "text/plain": [
              "76.37"
            ]
          },
          "metadata": {},
          "execution_count": 15
        }
      ]
    },
    {
      "cell_type": "code",
      "execution_count": 16,
      "id": "56b2d475-6835-4c0e-a4c2-9bda304a37db",
      "metadata": {
        "colab": {
          "base_uri": "https://localhost:8080/",
          "height": 1000,
          "referenced_widgets": [
            "a3ed42376b714274b9967aac0f217fb6",
            "b55daadbaae84d0f9348d398357a8647",
            "25de6a519567427383375008e9291374",
            "8601b1ad39d14532841059938f168b14",
            "439f9631eeca46d6b0f629ee0b30816d",
            "68595955727f430086eff3191e30f654",
            "df4504f701164c94b08afa5178c70a50",
            "8723759250404d13b6e1dc2689f1f85f",
            "e09bb7da59be45268102535e9062a1eb",
            "bc0b347c3cfd4cceac390bc9f3acfded",
            "1790a37cef6148ae90740226d68dda45"
          ]
        },
        "id": "56b2d475-6835-4c0e-a4c2-9bda304a37db",
        "outputId": "b93548db-5d2c-45d9-93fb-87699febb2fd"
      },
      "outputs": [
        {
          "output_type": "display_data",
          "data": {
            "text/plain": [
              "  0%|          | 0/50 [00:00<?, ?it/s]"
            ],
            "application/vnd.jupyter.widget-view+json": {
              "version_major": 2,
              "version_minor": 0,
              "model_id": "a3ed42376b714274b9967aac0f217fb6"
            }
          },
          "metadata": {}
        },
        {
          "output_type": "stream",
          "name": "stdout",
          "text": [
            "Train Epoch: 0 [0/12000 (0%)] tLoss: 0.693041 train_acc: 0 acc: 0\n",
            "2548 3657\n",
            "8301 12000\n",
            "Train Epoch: 1 [0/12000 (0%)] tLoss: 0.567456 train_acc: 69.17 acc: 69.67\n",
            "3029 3657\n",
            "9776 12000\n",
            "Train Epoch: 2 [0/12000 (0%)] tLoss: 0.463371 train_acc: 81.47 acc: 82.83\n",
            "3116 3657\n",
            "10145 12000\n",
            "Train Epoch: 3 [0/12000 (0%)] tLoss: 0.411814 train_acc: 84.54 acc: 85.21\n",
            "3215 3657\n",
            "10576 12000\n",
            "Train Epoch: 4 [0/12000 (0%)] tLoss: 0.191599 train_acc: 88.13 acc: 87.91\n",
            "3247 3657\n",
            "10652 12000\n",
            "Train Epoch: 5 [0/12000 (0%)] tLoss: 0.248518 train_acc: 88.77 acc: 88.79\n",
            "3242 3657\n",
            "10687 12000\n",
            "Train Epoch: 6 [0/12000 (0%)] tLoss: 0.270889 train_acc: 89.06 acc: 88.65\n",
            "3295 3657\n",
            "10811 12000\n",
            "Train Epoch: 7 [0/12000 (0%)] tLoss: 0.353101 train_acc: 90.09 acc: 90.1\n",
            "3255 3657\n",
            "10731 12000\n",
            "Train Epoch: 8 [0/12000 (0%)] tLoss: 0.325200 train_acc: 89.42 acc: 89.01\n",
            "3321 3657\n",
            "10871 12000\n",
            "Train Epoch: 9 [0/12000 (0%)] tLoss: 0.253186 train_acc: 90.59 acc: 90.81\n",
            "3320 3657\n",
            "10886 12000\n",
            "Train Epoch: 10 [0/12000 (0%)] tLoss: 0.357649 train_acc: 90.72 acc: 90.78\n",
            "3327 3657\n",
            "10851 12000\n",
            "Train Epoch: 11 [0/12000 (0%)] tLoss: 0.440567 train_acc: 90.42 acc: 90.98\n",
            "3315 3657\n",
            "10908 12000\n",
            "Train Epoch: 12 [0/12000 (0%)] tLoss: 0.368197 train_acc: 90.9 acc: 90.65\n",
            "3323 3657\n",
            "10822 12000\n",
            "Train Epoch: 13 [0/12000 (0%)] tLoss: 0.298962 train_acc: 90.18 acc: 90.87\n",
            "3288 3657\n",
            "10872 12000\n",
            "Train Epoch: 14 [0/12000 (0%)] tLoss: 0.208206 train_acc: 90.6 acc: 89.91\n",
            "3326 3657\n",
            "10949 12000\n",
            "Train Epoch: 15 [0/12000 (0%)] tLoss: 0.210420 train_acc: 91.24 acc: 90.95\n",
            "3320 3657\n",
            "10961 12000\n",
            "Train Epoch: 16 [0/12000 (0%)] tLoss: 0.158445 train_acc: 91.34 acc: 90.78\n",
            "3326 3657\n",
            "10974 12000\n",
            "Train Epoch: 17 [0/12000 (0%)] tLoss: 0.319861 train_acc: 91.45 acc: 90.95\n",
            "3319 3657\n",
            "10982 12000\n",
            "Train Epoch: 18 [0/12000 (0%)] tLoss: 0.223606 train_acc: 91.52 acc: 90.76\n",
            "3324 3657\n",
            "10991 12000\n",
            "Train Epoch: 19 [0/12000 (0%)] tLoss: 0.218809 train_acc: 91.59 acc: 90.89\n",
            "3350 3657\n",
            "11034 12000\n",
            "Train Epoch: 20 [0/12000 (0%)] tLoss: 0.270912 train_acc: 91.95 acc: 91.61\n",
            "3349 3657\n",
            "11057 12000\n",
            "Train Epoch: 21 [0/12000 (0%)] tLoss: 0.217223 train_acc: 92.14 acc: 91.58\n",
            "3359 3657\n",
            "11047 12000\n",
            "Train Epoch: 22 [0/12000 (0%)] tLoss: 0.187143 train_acc: 92.06 acc: 91.85\n",
            "3344 3657\n",
            "11080 12000\n",
            "Train Epoch: 23 [0/12000 (0%)] tLoss: 0.167144 train_acc: 92.33 acc: 91.44\n",
            "3342 3657\n",
            "11040 12000\n",
            "Train Epoch: 24 [0/12000 (0%)] tLoss: 0.147187 train_acc: 92.0 acc: 91.39\n",
            "3312 3657\n",
            "10990 12000\n",
            "Train Epoch: 25 [0/12000 (0%)] tLoss: 0.207978 train_acc: 91.58 acc: 90.57\n",
            "3370 3657\n",
            "11088 12000\n"
          ]
        }
      ],
      "source": [
        "net = xueta().to(device)\n",
        "optimizer = optim.Adam(net.parameters(), lr=0.0002)\n",
        "criterion = nn.CrossEntropyLoss()\n",
        "\n",
        "\n",
        "\n",
        "\n",
        "l = []\n",
        "t1 = time.time()\n",
        "\n",
        "acc_train = 0\n",
        "acc_test = 0\n",
        "\n",
        "for epoch in tqdm(range(50)):\n",
        "    ep_l = []\n",
        "    for batch_idx, (data, target) in enumerate(train_loader):\n",
        "        data = data.to(device)\n",
        "        target = target.to(device)\n",
        "        \n",
        "        optimizer.zero_grad()\n",
        "        net_out = net(data.reshape(len(data),1,200,200))\n",
        "        \n",
        "        \n",
        "        loss = criterion(net_out, target)\n",
        "        \n",
        "        loss.backward()\n",
        "        optimizer.step()\n",
        "        ep_l.append(loss)\n",
        "        \n",
        "        if epoch%1==0 and batch_idx==0:\n",
        "            print('Train Epoch: {} [{}/{} ({:.0f}%)] tLoss: {:.6f} train_acc: {} acc: {}'.format(\n",
        "                   epoch, batch_idx * len(data), len(train_loader.dataset),\n",
        "                          100. * batch_idx / len(train_loader), sum(ep_l)/len(ep_l),acc_train,acc_test))\n",
        "    l.append((epoch,loss.item()))\n",
        "    acc_test = acc()\n",
        "    acc_train = acc_t()\n",
        "    if acc_test>92.0:\n",
        "        break\n",
        "t2 = time.time()\n",
        "torch.save(net,'/content/drive/MyDrive/92.12acc')"
      ]
    },
    {
      "cell_type": "code",
      "execution_count": 17,
      "id": "e0fc6776-9f2b-44db-bc8a-f2ffff244af5",
      "metadata": {
        "id": "e0fc6776-9f2b-44db-bc8a-f2ffff244af5",
        "colab": {
          "base_uri": "https://localhost:8080/"
        },
        "outputId": "491587fe-59fb-48d1-a897-d8239f83249e"
      },
      "outputs": [
        {
          "output_type": "execute_result",
          "data": {
            "text/plain": [
              "xueta(\n",
              "  (layer1): Sequential(\n",
              "    (0): Conv2d(1, 4, kernel_size=(2, 2), stride=(1, 1))\n",
              "    (1): ReLU()\n",
              "    (2): AvgPool2d(kernel_size=4, stride=2, padding=0)\n",
              "  )\n",
              "  (layer2): Sequential(\n",
              "    (0): Conv2d(4, 5, kernel_size=(4, 4), stride=(1, 1))\n",
              "    (1): ReLU()\n",
              "    (2): AvgPool2d(kernel_size=4, stride=4, padding=0)\n",
              "  )\n",
              "  (drop_out): Dropout(p=0.3, inplace=False)\n",
              "  (fc1): Linear(in_features=2645, out_features=50, bias=True)\n",
              "  (fc2): Linear(in_features=50, out_features=10, bias=True)\n",
              "  (fc3): Linear(in_features=10, out_features=2, bias=True)\n",
              ")"
            ]
          },
          "metadata": {},
          "execution_count": 17
        }
      ],
      "source": [
        "net = torch.load('/content/drive/MyDrive/92.12acc')\n",
        "net.eval()"
      ]
    },
    {
      "cell_type": "code",
      "source": [
        "img_t = train_tensor[random.randint(0,10000)][0]\n",
        "img_n = img_t.cpu().detach().numpy()\n",
        "\n",
        "\n",
        "predict = torch.sigmoid(net(img_t.reshape(1,1,200,200)))\n",
        "indx = torch.argmax(predict).item()\n",
        "q = predict.cpu().detach().numpy()[0]\n",
        "if indx == 0:\n",
        "    cv2.rectangle(img_n, (0, 170), (200, 200), (0,0,0), -1)\n",
        "    cv2.putText(img_n, text='Woman {}%'.format(round(q[indx]*100,1)), org=(20,190),\n",
        "            fontFace= cv2.FONT_HERSHEY_SIMPLEX, fontScale=0.8, color=(255,0,0),\n",
        "            thickness=2, lineType=cv2.LINE_AA)\n",
        "\n",
        "    plt.imshow(cv2.cvtColor(img_n, cv2.COLOR_BGR2RGB))  \n",
        "else:\n",
        "    cv2.rectangle(img_n, (0, 170), (200, 200), (0,0,0), -1)\n",
        "    cv2.putText(img_n, text='Man {}%'.format(round(q[indx]*100,1)), org=(20,190),\n",
        "            fontFace= cv2.FONT_HERSHEY_SIMPLEX, fontScale=0.8, color=(255,0,0),\n",
        "            thickness=2, lineType=cv2.LINE_AA)\n",
        "\n",
        "    plt.imshow(cv2.cvtColor(img_n, cv2.COLOR_BGR2RGB)) \n",
        "predict,indx"
      ],
      "metadata": {
        "colab": {
          "base_uri": "https://localhost:8080/",
          "height": 306
        },
        "id": "KluTXWSmwX1O",
        "outputId": "8ae49188-d0c9-4134-ce00-0f97f26e0fb8"
      },
      "id": "KluTXWSmwX1O",
      "execution_count": 23,
      "outputs": [
        {
          "output_type": "stream",
          "name": "stderr",
          "text": [
            "WARNING:matplotlib.image:Clipping input data to the valid range for imshow with RGB data ([0..1] for floats or [0..255] for integers).\n"
          ]
        },
        {
          "output_type": "execute_result",
          "data": {
            "text/plain": [
              "(tensor([[0.0463, 0.8396]], device='cuda:0', grad_fn=<SigmoidBackward0>), 1)"
            ]
          },
          "metadata": {},
          "execution_count": 23
        },
        {
          "output_type": "display_data",
          "data": {
            "text/plain": [
              "<Figure size 432x288 with 1 Axes>"
            ],
            "image/png": "[encoded data removed]"
          },
          "metadata": {
            "needs_background": "light"
          }
        }
      ]
    }
  ],
  "metadata": {
    "kernelspec": {
      "display_name": "Python 3 (ipykernel)",
      "language": "python",
      "name": "python3"
    },
    "language_info": {
      "codemirror_mode": {
        "name": "ipython",
        "version": 3
      },
      "file_extension": ".py",
      "mimetype": "text/x-python",
      "name": "python",
      "nbconvert_exporter": "python",
      "pygments_lexer": "ipython3",
      "version": "3.10.7"
    },
    "colab": {
      "provenance": [],
      "collapsed_sections": []
    },
    "accelerator": "GPU",
    "widgets": {
      "application/vnd.jupyter.widget-state+json": {
        "a3ed42376b714274b9967aac0f217fb6": {
          "model_module": "@jupyter-widgets/controls",
          "model_name": "HBoxModel",
          "model_module_version": "1.5.0",
          "state": {
            "_dom_classes": [],
            "_model_module": "@jupyter-widgets/controls",
            "_model_module_version": "1.5.0",
            "_model_name": "HBoxModel",
            "_view_count": null,
            "_view_module": "@jupyter-widgets/controls",
            "_view_module_version": "1.5.0",
            "_view_name": "HBoxView",
            "box_style": "",
            "children": [
              "IPY_MODEL_b55daadbaae84d0f9348d398357a8647",
              "IPY_MODEL_25de6a519567427383375008e9291374",
              "IPY_MODEL_8601b1ad39d14532841059938f168b14"
            ],
            "layout": "IPY_MODEL_439f9631eeca46d6b0f629ee0b30816d"
          }
        },
        "b55daadbaae84d0f9348d398357a8647": {
          "model_module": "@jupyter-widgets/controls",
          "model_name": "HTMLModel",
          "model_module_version": "1.5.0",
          "state": {
            "_dom_classes": [],
            "_model_module": "@jupyter-widgets/controls",
            "_model_module_version": "1.5.0",
            "_model_name": "HTMLModel",
            "_view_count": null,
            "_view_module": "@jupyter-widgets/controls",
            "_view_module_version": "1.5.0",
            "_view_name": "HTMLView",
            "description": "",
            "description_tooltip": null,
            "layout": "IPY_MODEL_68595955727f430086eff3191e30f654",
            "placeholder": "​",
            "style": "IPY_MODEL_df4504f701164c94b08afa5178c70a50",
            "value": " 50%"
          }
        },
        "25de6a519567427383375008e9291374": {
          "model_module": "@jupyter-widgets/controls",
          "model_name": "FloatProgressModel",
          "model_module_version": "1.5.0",
          "state": {
            "_dom_classes": [],
            "_model_module": "@jupyter-widgets/controls",
            "_model_module_version": "1.5.0",
            "_model_name": "FloatProgressModel",
            "_view_count": null,
            "_view_module": "@jupyter-widgets/controls",
            "_view_module_version": "1.5.0",
            "_view_name": "ProgressView",
            "bar_style": "danger",
            "description": "",
            "description_tooltip": null,
            "layout": "IPY_MODEL_8723759250404d13b6e1dc2689f1f85f",
            "max": 50,
            "min": 0,
            "orientation": "horizontal",
            "style": "IPY_MODEL_e09bb7da59be45268102535e9062a1eb",
            "value": 25
          }
        },
        "8601b1ad39d14532841059938f168b14": {
          "model_module": "@jupyter-widgets/controls",
          "model_name": "HTMLModel",
          "model_module_version": "1.5.0",
          "state": {
            "_dom_classes": [],
            "_model_module": "@jupyter-widgets/controls",
            "_model_module_version": "1.5.0",
            "_model_name": "HTMLModel",
            "_view_count": null,
            "_view_module": "@jupyter-widgets/controls",
            "_view_module_version": "1.5.0",
            "_view_name": "HTMLView",
            "description": "",
            "description_tooltip": null,
            "layout": "IPY_MODEL_bc0b347c3cfd4cceac390bc9f3acfded",
            "placeholder": "​",
            "style": "IPY_MODEL_1790a37cef6148ae90740226d68dda45",
            "value": " 25/50 [01:04&lt;01:02,  2.49s/it]"
          }
        },
        "439f9631eeca46d6b0f629ee0b30816d": {
          "model_module": "@jupyter-widgets/base",
          "model_name": "LayoutModel",
          "model_module_version": "1.2.0",
          "state": {
            "_model_module": "@jupyter-widgets/base",
            "_model_module_version": "1.2.0",
            "_model_name": "LayoutModel",
            "_view_count": null,
            "_view_module": "@jupyter-widgets/base",
            "_view_module_version": "1.2.0",
            "_view_name": "LayoutView",
            "align_content": null,
            "align_items": null,
            "align_self": null,
            "border": null,
            "bottom": null,
            "display": null,
            "flex": null,
            "flex_flow": null,
            "grid_area": null,
            "grid_auto_columns": null,
            "grid_auto_flow": null,
            "grid_auto_rows": null,
            "grid_column": null,
            "grid_gap": null,
            "grid_row": null,
            "grid_template_areas": null,
            "grid_template_columns": null,
            "grid_template_rows": null,
            "height": null,
            "justify_content": null,
            "justify_items": null,
            "left": null,
            "margin": null,
            "max_height": null,
            "max_width": null,
            "min_height": null,
            "min_width": null,
            "object_fit": null,
            "object_position": null,
            "order": null,
            "overflow": null,
            "overflow_x": null,
            "overflow_y": null,
            "padding": null,
            "right": null,
            "top": null,
            "visibility": null,
            "width": null
          }
        },
        "68595955727f430086eff3191e30f654": {
          "model_module": "@jupyter-widgets/base",
          "model_name": "LayoutModel",
          "model_module_version": "1.2.0",
          "state": {
            "_model_module": "@jupyter-widgets/base",
            "_model_module_version": "1.2.0",
            "_model_name": "LayoutModel",
            "_view_count": null,
            "_view_module": "@jupyter-widgets/base",
            "_view_module_version": "1.2.0",
            "_view_name": "LayoutView",
            "align_content": null,
            "align_items": null,
            "align_self": null,
            "border": null,
            "bottom": null,
            "display": null,
            "flex": null,
            "flex_flow": null,
            "grid_area": null,
            "grid_auto_columns": null,
            "grid_auto_flow": null,
            "grid_auto_rows": null,
            "grid_column": null,
            "grid_gap": null,
            "grid_row": null,
            "grid_template_areas": null,
            "grid_template_columns": null,
            "grid_template_rows": null,
            "height": null,
            "justify_content": null,
            "justify_items": null,
            "left": null,
            "margin": null,
            "max_height": null,
            "max_width": null,
            "min_height": null,
            "min_width": null,
            "object_fit": null,
            "object_position": null,
            "order": null,
            "overflow": null,
            "overflow_x": null,
            "overflow_y": null,
            "padding": null,
            "right": null,
            "top": null,
            "visibility": null,
            "width": null
          }
        },
        "df4504f701164c94b08afa5178c70a50": {
          "model_module": "@jupyter-widgets/controls",
          "model_name": "DescriptionStyleModel",
          "model_module_version": "1.5.0",
          "state": {
            "_model_module": "@jupyter-widgets/controls",
            "_model_module_version": "1.5.0",
            "_model_name": "DescriptionStyleModel",
            "_view_count": null,
            "_view_module": "@jupyter-widgets/base",
            "_view_module_version": "1.2.0",
            "_view_name": "StyleView",
            "description_width": ""
          }
        },
        "8723759250404d13b6e1dc2689f1f85f": {
          "model_module": "@jupyter-widgets/base",
          "model_name": "LayoutModel",
          "model_module_version": "1.2.0",
          "state": {
            "_model_module": "@jupyter-widgets/base",
            "_model_module_version": "1.2.0",
            "_model_name": "LayoutModel",
            "_view_count": null,
            "_view_module": "@jupyter-widgets/base",
            "_view_module_version": "1.2.0",
            "_view_name": "LayoutView",
            "align_content": null,
            "align_items": null,
            "align_self": null,
            "border": null,
            "bottom": null,
            "display": null,
            "flex": null,
            "flex_flow": null,
            "grid_area": null,
            "grid_auto_columns": null,
            "grid_auto_flow": null,
            "grid_auto_rows": null,
            "grid_column": null,
            "grid_gap": null,
            "grid_row": null,
            "grid_template_areas": null,
            "grid_template_columns": null,
            "grid_template_rows": null,
            "height": null,
            "justify_content": null,
            "justify_items": null,
            "left": null,
            "margin": null,
            "max_height": null,
            "max_width": null,
            "min_height": null,
            "min_width": null,
            "object_fit": null,
            "object_position": null,
            "order": null,
            "overflow": null,
            "overflow_x": null,
            "overflow_y": null,
            "padding": null,
            "right": null,
            "top": null,
            "visibility": null,
            "width": null
          }
        },
        "e09bb7da59be45268102535e9062a1eb": {
          "model_module": "@jupyter-widgets/controls",
          "model_name": "ProgressStyleModel",
          "model_module_version": "1.5.0",
          "state": {
            "_model_module": "@jupyter-widgets/controls",
            "_model_module_version": "1.5.0",
            "_model_name": "ProgressStyleModel",
            "_view_count": null,
            "_view_module": "@jupyter-widgets/base",
            "_view_module_version": "1.2.0",
            "_view_name": "StyleView",
            "bar_color": null,
            "description_width": ""
          }
        },
        "bc0b347c3cfd4cceac390bc9f3acfded": {
          "model_module": "@jupyter-widgets/base",
          "model_name": "LayoutModel",
          "model_module_version": "1.2.0",
          "state": {
            "_model_module": "@jupyter-widgets/base",
            "_model_module_version": "1.2.0",
            "_model_name": "LayoutModel",
            "_view_count": null,
            "_view_module": "@jupyter-widgets/base",
            "_view_module_version": "1.2.0",
            "_view_name": "LayoutView",
            "align_content": null,
            "align_items": null,
            "align_self": null,
            "border": null,
            "bottom": null,
            "display": null,
            "flex": null,
            "flex_flow": null,
            "grid_area": null,
            "grid_auto_columns": null,
            "grid_auto_flow": null,
            "grid_auto_rows": null,
            "grid_column": null,
            "grid_gap": null,
            "grid_row": null,
            "grid_template_areas": null,
            "grid_template_columns": null,
            "grid_template_rows": null,
            "height": null,
            "justify_content": null,
            "justify_items": null,
            "left": null,
            "margin": null,
            "max_height": null,
            "max_width": null,
            "min_height": null,
            "min_width": null,
            "object_fit": null,
            "object_position": null,
            "order": null,
            "overflow": null,
            "overflow_x": null,
            "overflow_y": null,
            "padding": null,
            "right": null,
            "top": null,
            "visibility": null,
            "width": null
          }
        },
        "1790a37cef6148ae90740226d68dda45": {
          "model_module": "@jupyter-widgets/controls",
          "model_name": "DescriptionStyleModel",
          "model_module_version": "1.5.0",
          "state": {
            "_model_module": "@jupyter-widgets/controls",
            "_model_module_version": "1.5.0",
            "_model_name": "DescriptionStyleModel",
            "_view_count": null,
            "_view_module": "@jupyter-widgets/base",
            "_view_module_version": "1.2.0",
            "_view_name": "StyleView",
            "description_width": ""
          }
        }
      }
    }
  },
  "nbformat": 4,
  "nbformat_minor": 5
}